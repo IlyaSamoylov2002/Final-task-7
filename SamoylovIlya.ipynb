{
 "cells": [
  {
   "cell_type": "markdown",
   "metadata": {},
   "source": [
    "# Шаг 1. Импортируйте необходимые библиотеки"
   ]
  },
  {
   "cell_type": "code",
   "execution_count": 1,
   "metadata": {},
   "outputs": [],
   "source": [
    "import pandas"
   ]
  },
  {
   "cell_type": "markdown",
   "metadata": {},
   "source": [
    "# Шаг 2. Импортируйте набор данных с этого [адреса](https://raw.githubusercontent.com/guipsamora/pandas_exercises/master/06_Stats/US_Baby_Names/US_Baby_Names_right.csv)."
   ]
  },
  {
   "cell_type": "code",
   "execution_count": 2,
   "metadata": {},
   "outputs": [],
   "source": [
    "url = 'https://raw.githubusercontent.com/guipsamora/pandas_exercises/master/06_Stats/US_Baby_Names/US_Baby_Names_right.csv'\n",
    "data = pandas.read_csv(url)"
   ]
  },
  {
   "cell_type": "markdown",
   "metadata": {},
   "source": [
    "# Шаг 3. Сохраните его в переменной с именем baby_names."
   ]
  },
  {
   "cell_type": "code",
   "execution_count": 3,
   "metadata": {},
   "outputs": [],
   "source": [
    "baby_names = data"
   ]
  },
  {
   "cell_type": "markdown",
   "metadata": {},
   "source": [
    "# Шаг 4. Выведите первые 10 строк"
   ]
  },
  {
   "cell_type": "code",
   "execution_count": 4,
   "metadata": {},
   "outputs": [
    {
     "data": {
      "text/plain": "   Unnamed: 0     Id      Name  Year Gender State  Count\n0       11349  11350      Emma  2004      F    AK     62\n1       11350  11351   Madison  2004      F    AK     48\n2       11351  11352    Hannah  2004      F    AK     46\n3       11352  11353     Grace  2004      F    AK     44\n4       11353  11354     Emily  2004      F    AK     41\n5       11354  11355   Abigail  2004      F    AK     37\n6       11355  11356    Olivia  2004      F    AK     33\n7       11356  11357  Isabella  2004      F    AK     30\n8       11357  11358    Alyssa  2004      F    AK     29\n9       11358  11359    Sophia  2004      F    AK     28",
      "text/html": "<div>\n<style scoped>\n    .dataframe tbody tr th:only-of-type {\n        vertical-align: middle;\n    }\n\n    .dataframe tbody tr th {\n        vertical-align: top;\n    }\n\n    .dataframe thead th {\n        text-align: right;\n    }\n</style>\n<table border=\"1\" class=\"dataframe\">\n  <thead>\n    <tr style=\"text-align: right;\">\n      <th></th>\n      <th>Unnamed: 0</th>\n      <th>Id</th>\n      <th>Name</th>\n      <th>Year</th>\n      <th>Gender</th>\n      <th>State</th>\n      <th>Count</th>\n    </tr>\n  </thead>\n  <tbody>\n    <tr>\n      <th>0</th>\n      <td>11349</td>\n      <td>11350</td>\n      <td>Emma</td>\n      <td>2004</td>\n      <td>F</td>\n      <td>AK</td>\n      <td>62</td>\n    </tr>\n    <tr>\n      <th>1</th>\n      <td>11350</td>\n      <td>11351</td>\n      <td>Madison</td>\n      <td>2004</td>\n      <td>F</td>\n      <td>AK</td>\n      <td>48</td>\n    </tr>\n    <tr>\n      <th>2</th>\n      <td>11351</td>\n      <td>11352</td>\n      <td>Hannah</td>\n      <td>2004</td>\n      <td>F</td>\n      <td>AK</td>\n      <td>46</td>\n    </tr>\n    <tr>\n      <th>3</th>\n      <td>11352</td>\n      <td>11353</td>\n      <td>Grace</td>\n      <td>2004</td>\n      <td>F</td>\n      <td>AK</td>\n      <td>44</td>\n    </tr>\n    <tr>\n      <th>4</th>\n      <td>11353</td>\n      <td>11354</td>\n      <td>Emily</td>\n      <td>2004</td>\n      <td>F</td>\n      <td>AK</td>\n      <td>41</td>\n    </tr>\n    <tr>\n      <th>5</th>\n      <td>11354</td>\n      <td>11355</td>\n      <td>Abigail</td>\n      <td>2004</td>\n      <td>F</td>\n      <td>AK</td>\n      <td>37</td>\n    </tr>\n    <tr>\n      <th>6</th>\n      <td>11355</td>\n      <td>11356</td>\n      <td>Olivia</td>\n      <td>2004</td>\n      <td>F</td>\n      <td>AK</td>\n      <td>33</td>\n    </tr>\n    <tr>\n      <th>7</th>\n      <td>11356</td>\n      <td>11357</td>\n      <td>Isabella</td>\n      <td>2004</td>\n      <td>F</td>\n      <td>AK</td>\n      <td>30</td>\n    </tr>\n    <tr>\n      <th>8</th>\n      <td>11357</td>\n      <td>11358</td>\n      <td>Alyssa</td>\n      <td>2004</td>\n      <td>F</td>\n      <td>AK</td>\n      <td>29</td>\n    </tr>\n    <tr>\n      <th>9</th>\n      <td>11358</td>\n      <td>11359</td>\n      <td>Sophia</td>\n      <td>2004</td>\n      <td>F</td>\n      <td>AK</td>\n      <td>28</td>\n    </tr>\n  </tbody>\n</table>\n</div>"
     },
     "execution_count": 4,
     "metadata": {},
     "output_type": "execute_result"
    }
   ],
   "source": [
    "baby_names.head(10)"
   ]
  },
  {
   "cell_type": "markdown",
   "metadata": {},
   "source": [
    "# Шаг 5.  Удалить столбцы 'Unnamed: 0' и 'Id'."
   ]
  },
  {
   "cell_type": "code",
   "execution_count": 5,
   "metadata": {},
   "outputs": [],
   "source": [
    "baby_names_with_removed_columns = baby_names.drop(['Unnamed: 0', 'Id'], axis = 1)"
   ]
  },
  {
   "cell_type": "markdown",
   "metadata": {},
   "source": [
    "# Шаг 6. В наборе данных больше женских или мужских имен?"
   ]
  },
  {
   "cell_type": "code",
   "execution_count": 6,
   "metadata": {},
   "outputs": [
    {
     "data": {
      "text/plain": "  Gender       0\n0      F  558846\n1      M  457549",
      "text/html": "<div>\n<style scoped>\n    .dataframe tbody tr th:only-of-type {\n        vertical-align: middle;\n    }\n\n    .dataframe tbody tr th {\n        vertical-align: top;\n    }\n\n    .dataframe thead th {\n        text-align: right;\n    }\n</style>\n<table border=\"1\" class=\"dataframe\">\n  <thead>\n    <tr style=\"text-align: right;\">\n      <th></th>\n      <th>Gender</th>\n      <th>0</th>\n    </tr>\n  </thead>\n  <tbody>\n    <tr>\n      <th>0</th>\n      <td>F</td>\n      <td>558846</td>\n    </tr>\n    <tr>\n      <th>1</th>\n      <td>M</td>\n      <td>457549</td>\n    </tr>\n  </tbody>\n</table>\n</div>"
     },
     "execution_count": 6,
     "metadata": {},
     "output_type": "execute_result"
    }
   ],
   "source": [
    "baby_names_with_removed_columns.groupby([\"Gender\"]).size().reset_index()"
   ]
  },
  {
   "cell_type": "markdown",
   "metadata": {},
   "source": [
    "# Шаг 7.  Какое имя встречается чаще всего?"
   ]
  },
  {
   "cell_type": "code",
   "execution_count": 7,
   "metadata": {},
   "outputs": [
    {
     "data": {
      "text/plain": "'Riley'"
     },
     "execution_count": 7,
     "metadata": {},
     "output_type": "execute_result"
    }
   ],
   "source": [
    "baby_names_with_removed_columns['Name'].value_counts().idxmax()"
   ]
  },
  {
   "cell_type": "markdown",
   "metadata": {
    "pycharm": {
     "name": "#%% md\n"
    }
   },
   "source": [
    "# Шаг 8.  Сколько разных имен есть в наборе данных?"
   ]
  },
  {
   "cell_type": "code",
   "execution_count": 8,
   "metadata": {},
   "outputs": [
    {
     "data": {
      "text/plain": "17632"
     },
     "execution_count": 8,
     "metadata": {},
     "output_type": "execute_result"
    }
   ],
   "source": [
    "baby_names_with_removed_columns['Name'].nunique()"
   ]
  }
 ],
 "metadata": {
  "kernelspec": {
   "display_name": "Python 3",
   "language": "python",
   "name": "python3"
  },
  "language_info": {
   "codemirror_mode": {
    "name": "ipython",
    "version": 3
   },
   "file_extension": ".py",
   "mimetype": "text/x-python",
   "name": "python",
   "nbconvert_exporter": "python",
   "pygments_lexer": "ipython3",
   "version": "3.7.7"
  }
 },
 "nbformat": 4,
 "nbformat_minor": 4
}